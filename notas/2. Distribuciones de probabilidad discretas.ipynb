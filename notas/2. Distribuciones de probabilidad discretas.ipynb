{
 "metadata": {
  "language": "Julia",
  "name": "",
  "signature": "sha256:e1aa2b37c131dbbcc91850daca9b631e7993940514cca0364ae8c51365579a80"
 },
 "nbformat": 3,
 "nbformat_minor": 0,
 "worksheets": [
  {
   "cells": [
    {
     "cell_type": "heading",
     "level": 1,
     "metadata": {},
     "source": [
      "\u00bfQu\u00e9 es una distribuci\u00f3n de probabilidad?"
     ]
    },
    {
     "cell_type": "markdown",
     "metadata": {},
     "source": [
      "El concepto de *distribuci\u00f3n de probabilidad* es fundamental. Describe c\u00f3mo se reparte la probabilidad de una *variable aleatoria*. \n",
      "\n",
      "Le damos el nombre *variable aleatoria* a una cantidad que toma distintos valores cada vez que lo medimos. (El nombre no es bueno.) Ciertos valores pueden ser *m\u00e1s probables* y otros menos probables."
     ]
    },
    {
     "cell_type": "heading",
     "level": 2,
     "metadata": {},
     "source": [
      "Lanzar un dado"
     ]
    },
    {
     "cell_type": "markdown",
     "metadata": {},
     "source": [
      "Como primer ejemplo, pensemos en un dado. Cuando lanzamos un dado, puede caer en uno de los lados $1$ a $6$. Si el dado no tiene sesgo, esperamos que caer\u00e1 con \"igual probabilidad\" $\\frac{1}{6}$ en cada lado. Pero, \u00bfqu\u00e9 queremos decir con esta aseveraci\u00f3n?"
     ]
    },
    {
     "cell_type": "markdown",
     "metadata": {},
     "source": [
      "En una interpretaci\u00f3n \"frecuentista\" de la probabilidad, nos referimos a que si lanzamos el dado un n\u00famero muy grande $N$ de veces, caer\u00e1 en cada lado $N/6$ veces. [Otra interpretaci\u00f3n, m\u00e1s favorecida hoy d\u00eda, es la Bayesiana.]"
     ]
    },
    {
     "cell_type": "markdown",
     "metadata": {},
     "source": [
      "La colecci\u00f3n de todas las probabilidades de todos los valores posibles de la variable aleatoria $X$, \"el valor que arroja el dado\", se llama la *distribuci\u00f3n de probabilidad* de $X$.  Escribimos $P(X=1) = \\frac{1}{6}$, etc."
     ]
    },
    {
     "cell_type": "markdown",
     "metadata": {},
     "source": [
      "Si las probabilidades son iguales, decimos que la distribuci\u00f3n es *uniforme*. Pero si realmente hacemos el experimento, \u00bfqu\u00e9 tan uniformes salen las frecuencias?"
     ]
    },
    {
     "cell_type": "markdown",
     "metadata": {},
     "source": [
      "**Ejercicio 1**:\n",
      "\n",
      "(a) Genera un n\u00famero aleatorio uniforme entero entre 1 y 6 con\n",
      "\n",
      "    rand(1:6)\n",
      "    \n",
      "[Checa cu\u00e1l es el tipo del objeto `1:6`.] \n",
      "\n",
      "(b) \u00bfC\u00f3mo se pueden generar $N$ tales n\u00fameros? Haz una funci\u00f3n para hacerlo.\n",
      "\n",
      "(c) Cuenta el n\u00famero de veces que dio $1$, $2$, $\\ldots$, $6$ y as\u00ed calcula las frecuencias al normalizarlos con el n\u00famero total.\n",
      "\n",
      "(d) Dibuja el resultado. \u00bfQu\u00e9 observas? Hazlo varias veces con el mismo valor de $N$.\n",
      "\n",
      "(e) Repite el c\u00e1lculo con n\u00fameros $N$ mayores. \u00bfQu\u00e9 observas?\n",
      "\n",
      "(f) Calcula para cada $N$ cu\u00e1nto *desv\u00eda* el valor observado del valor te\u00f3rico esperado. Dibuja esto en funci\u00f3n de $N$. \u00bfC\u00f3mo se comporta esta desviaci\u00f3n?"
     ]
    },
    {
     "cell_type": "markdown",
     "metadata": {},
     "source": [
      "Este resultado se puede entender al hacer un c\u00e1lculo anal\u00edtico, como sigue."
     ]
    },
    {
     "cell_type": "markdown",
     "metadata": {},
     "source": [
      "**Ejercicio 2**:\n",
      "\n",
      "(a) Pensemos s\u00f3lo en el lado $1$. Sea $p := \\frac{1}{6}$ la probabilidad de que caiga en este lado.\n",
      "Si lanzamos 2 veces, \u00bfcu\u00e1l es la probabilidad de que salgan (i) cero veces $1$; (ii) una vez $1$; (iii) dos veces $1$?\n",
      "\n",
      "(b) Si lanzamos 3 veces, \u00bfcu\u00e1les son las probabilidades de que salga cada n\u00famero posible de $1$s entre 0 y 3?\n",
      "\n",
      "(c) Si lanzamos N veces, \u00bfcu\u00e1les son las probabilidades?\n"
     ]
    },
    {
     "cell_type": "markdown",
     "metadata": {},
     "source": [
      "Aqu\u00ed, estamos hablando de *otra* variable aleatoria, el n\u00famero de veces $Y_N$ que sale un $1$ en $N$ intentos.\n",
      "Por lo tanto, tambi\u00e9n podemos hablar de la distribuci\u00f3n de probabilidad de $Y_N$, que una vez m\u00e1s es la colecci\u00f3n de todas las probabilidades de todos los valores posibles de $Y_N$, que son $0$, $\\ldots$, $N$.\n",
      "\n",
      "Investiguemos esta distribuci\u00f3n. Para hacerlo, generalicemos a una secuencia de *ensayos de Bernoulli*: es una secuencia de eventos independientes, con probabilidad $p$ de \u00e9xito en cada evento."
     ]
    },
    {
     "cell_type": "markdown",
     "metadata": {},
     "source": [
      "**Ejercicio 3**:\n",
      "\n",
      "(a) Escribe una funci\u00f3n que lleva a cabo $N$ ensayos de Bernoulli con probabilidad $p$ y calcula la proporci\u00f3n que fueron exitosos.\n",
      "\n",
      "(b) Utiliza tu funci\u00f3n para estimar num\u00e9ricamente la distribuci\u00f3n de probabilidad de $Y_{N,p}$.\n",
      "\n",
      "(c) Dib\u00fajalo y comp\u00e1ralo con el anal\u00edtico.\n",
      "\n",
      "(d) \u00bfQu\u00e9 pasa cuando $N$ es grande y $p$ es chico -- c\u00f3mo se ve la distribuci\u00f3n? \u00bfEsto se puede entender anal\u00edticamente?"
     ]
    },
    {
     "cell_type": "markdown",
     "metadata": {},
     "source": [
      "La distribuci\u00f3n de probabilidad de $Y_{N,p}$ se llama una *distribuci\u00f3n binomial*. Se dice que es una distribuci\u00f3n de probabilidad *discreta*, ya que los valores que toma son valores discretos. \n",
      "\n",
      "La notaci\u00f3n que se utiliza es\n",
      "\n",
      "$$X \\sim B(N,p)$$\n",
      "\n",
      "para decir que $X$ es una variable aleatoria con distribuci\u00f3n de probabilidad binomial con par\u00e1metros $N$ y $p$."
     ]
    }
   ],
   "metadata": {}
  }
 ]
}