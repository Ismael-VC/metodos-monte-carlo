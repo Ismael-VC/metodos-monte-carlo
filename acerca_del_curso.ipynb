{
 "metadata": {
  "language": "Julia",
  "name": "",
  "signature": "sha256:3d6261ab7192a27a6d263996c744f6c8c00322317e0967ca0b66d082a26deecb"
 },
 "nbformat": 3,
 "nbformat_minor": 0,
 "worksheets": [
  {
   "cells": [
    {
     "cell_type": "heading",
     "level": 1,
     "metadata": {},
     "source": [
      "Generalidades de m\u00e9todos computacionales para la f\u00edsica estad\u00edstica"
     ]
    },
    {
     "cell_type": "markdown",
     "metadata": {},
     "source": [
      "-**Evaluaci\u00f3n**\n",
      "\n",
      "- Tareas: 50% \n",
      "- Ex\u00e1menes: 20%\n",
      "- Proyecto Final: 30%"
     ]
    },
    {
     "cell_type": "markdown",
     "metadata": {},
     "source": [
      "**-\u00bfQu\u00e9 veremos?**\n",
      "\n",
      "MCMC: Markov Chain Monte Carlo-> Modelo de Ising por ejemplo. \n",
      "\n"
     ]
    },
    {
     "cell_type": "markdown",
     "metadata": {},
     "source": [
      "**-\u00bfQu\u00e9 necesitas en tu compu?**\n",
      "\n",
      "- Anaconda: https://store.continuum.io/cshop/anaconda/\n",
      "- Julia: http://julialang.org/\n",
      "- IJulia: Abres julia en la terminal y tecleas Pkg.add(\"IJulia\")"
     ]
    },
    {
     "cell_type": "markdown",
     "metadata": {},
     "source": [
      "**-Programar Julia desde la nube**: https://www.juliabox.org/"
     ]
    },
    {
     "cell_type": "markdown",
     "metadata": {},
     "source": [
      "**-Tutoriales**\n",
      "\n",
      "Tal vez el mejor lugar para empezar sea los notebooks de mi curso anterior, disponible en el repositorio\n",
      "\n",
      "https://github.com/computo-fc/fisica_computacional\n",
      "\n",
      "en el directorio `notas`.\n",
      "\n",
      "- http://www.scolvin.com/juliabyexample/\n",
      "- http://julialang.org/learning/\n",
      "- https://github.com/chrisvoncsefalvay/learn-julia-the-hard-way\n",
      "- Tutorial de Markdown: https://github.com/adam-p/markdown-here/wiki/Markdown-Cheatsheet"
     ]
    }
   ],
   "metadata": {}
  }
 ]
}