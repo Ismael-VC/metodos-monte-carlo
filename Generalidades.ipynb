{
 "metadata": {
  "language": "Julia",
  "name": "",
  "signature": "sha256:6195ea954c9091940a04aa3ef9a572802c00b058c3e3b06fc0971e43dcf99bbc"
 },
 "nbformat": 3,
 "nbformat_minor": 0,
 "worksheets": [
  {
   "cells": [
    {
     "cell_type": "heading",
     "level": 1,
     "metadata": {},
     "source": [
      "Generalidades de m\u00e9todos computacionales para la f\u00edsica estad\u00edstica"
     ]
    },
    {
     "cell_type": "markdown",
     "metadata": {},
     "source": [
      "-**Evaluaci\u00f3n**\n",
      "\n",
      "- Tareas: 50% \n",
      "- Ex\u00e1menes: 20%\n",
      "- Proyecto Final: 30%"
     ]
    },
    {
     "cell_type": "markdown",
     "metadata": {},
     "source": [
      "**-\u00bfQu\u00e9 veremos?**\n",
      "\n",
      "MCMC: Markov Chain Monte Carlo-> Modelo de Ising por ejemplo. \n",
      "\n"
     ]
    },
    {
     "cell_type": "markdown",
     "metadata": {},
     "source": [
      "**-\u00bfQu\u00e9 necesitas en tu compu?**\n",
      "\n",
      "- Anaconda: https://store.continuum.io/cshop/anaconda/\n",
      "- Julia: http://julialang.org/\n",
      "- IJulia: Abres julia en la terminal y tecleas Pkg.add(\"IJulia\")"
     ]
    },
    {
     "cell_type": "markdown",
     "metadata": {},
     "source": [
      "**-Programar Julia desde la nube**: https://www.juliabox.org/"
     ]
    },
    {
     "cell_type": "markdown",
     "metadata": {},
     "source": [
      "**-Tutoriales.**\n",
      "\n",
      "- http://www.scolvin.com/juliabyexample/\n",
      "- http://julialang.org/learning/\n",
      "- https://github.com/chrisvoncsefalvay/learn-julia-the-hard-way\n",
      "- Tutorial de Markdown: https://github.com/adam-p/markdown-here/wiki/Markdown-Cheatsheet"
     ]
    },
    {
     "cell_type": "code",
     "collapsed": false,
     "input": [],
     "language": "python",
     "metadata": {},
     "outputs": []
    }
   ],
   "metadata": {}
  }
 ]
}