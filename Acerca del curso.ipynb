{
 "metadata": {
  "language": "Julia",
  "name": "",
  "signature": "sha256:187e2a372741a43be165ff28462b13fc2b526ed161bec191a4cdb8a908f7ab2f"
 },
 "nbformat": 3,
 "nbformat_minor": 0,
 "worksheets": [
  {
   "cells": [
    {
     "cell_type": "heading",
     "level": 1,
     "metadata": {},
     "source": [
      "Generalidades de m\u00e9todos computacionales para la f\u00edsica estad\u00edstica"
     ]
    },
    {
     "cell_type": "markdown",
     "metadata": {},
     "source": [
      "##Evaluaci\u00f3n\n",
      "\n",
      "- Tareas: 50% \n",
      "- Ex\u00e1menes: 20%\n",
      "- Proyecto Final: 30%"
     ]
    },
    {
     "cell_type": "markdown",
     "metadata": {},
     "source": [
      "##\u00bfQu\u00e9 veremos en el curso?\n",
      "\n",
      "La meta principal del curso es llegar a simular el modelo de Ising con m\u00e9todos tipo MCMC (Markov Chain Monte Carlo).\n",
      "\n",
      "Para esto, veremos:\n",
      "\n",
      "- Caminatas aleatorias\n",
      "- Cadenas de Markov\n",
      "- MCMC"
     ]
    },
    {
     "cell_type": "markdown",
     "metadata": {},
     "source": [
      "##\u00bfQu\u00e9 necesitas instalar en tu compu?\n",
      "\n",
      "- Anaconda: https://store.continuum.io/cshop/anaconda/  (provee el IPython/Jupyter Notebook)\n",
      "- Julia: http://julialang.org/\n",
      "- IJulia: Abres Julia en la terminal (REPL) y tecleas `Pkg.add(\"IJulia\")`"
     ]
    },
    {
     "cell_type": "markdown",
     "metadata": {},
     "source": [
      "##\u00bfC\u00f3mo utilizar Julia en la nube, sin instalar nada?\n",
      "\n",
      "http://www.juliabox.org/"
     ]
    },
    {
     "cell_type": "markdown",
     "metadata": {},
     "source": [
      "##Tutoriales de Julia\n",
      "\n",
      "Nota que **\u00a1es crucial que teclees los comandos para que tus dedos se vayan acostumbrando!**\n",
      "\n",
      "\n",
      "- Una **introducci\u00f3n r\u00e1pida** a Julia est\u00e1 disponible en espa\u00f1ol en\n",
      "\n",
      "  http://learnxinyminutes.com/docs/es-es/julia-es/\n",
      "\n",
      "  y en ingl\u00e9s en\n",
      "  \n",
      "  http://learnxinyminutes.com/docs/julia/\n",
      "  \n",
      "\n",
      "- Un **resumen muy breve** de la sintaxis de Julia se encuentra aqu\u00ed:\n",
      "http://math.mit.edu/~stevenj/Julia-cheatsheet.pdf\n",
      "\n",
      "\n",
      "\n",
      "- La colecci\u00f3n de los **notebooks de mi curso anterior** est\u00e1 disponible en el repositorio\n",
      "\n",
      "  https://github.com/computo-fc/fisica_computacional\n",
      "\n",
      "  en el directorio `notas`.\n",
      "\n",
      "- Hay varios recursos m\u00e1s enlistados en\n",
      "  \n",
      "  http://julialang.org/learning/\n",
      "  \n",
      "  en particular un **video de un tutorial** que di (en ingl\u00e9s).\n",
      "\n",
      "\n",
      "- Otros recursos \u00fatiles:\n",
      "\n",
      "    - http://www.scolvin.com/juliabyexample/\n",
      "    \n",
      "    - https://github.com/chrisvoncsefalvay/learn-julia-the-hard-way\n",
      "    \n",
      "    \n",
      "- Hay un **tutorial de Markdown** (que se utiliza para formatear texto en el Notebook) aqu\u00ed:\n",
      "  \n",
      "  https://github.com/adam-p/markdown-here/wiki/Markdown-Cheatsheet "
     ]
    },
    {
     "cell_type": "heading",
     "level": 2,
     "metadata": {},
     "source": [
      "Instalaci\u00f3n de IPython en Ubuntu"
     ]
    },
    {
     "cell_type": "markdown",
     "metadata": {},
     "source": [
      "Puedes utilizar Anaconda, o instalar los siguientes paquetes:\n",
      "\n",
      "\n",
      "    sudo apt-get install python-dev\n",
      "    sudo apt-get install python-pip\n",
      "\n",
      "    sudo pip install ipython[all] --upgrade\n"
     ]
    }
   ],
   "metadata": {}
  }
 ]
}