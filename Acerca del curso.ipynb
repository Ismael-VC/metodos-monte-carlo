{
 "metadata": {
  "language": "Julia",
  "name": "",
  "signature": "sha256:653c9a713cdc25f8e980e54349b2b60cdfe088767f11a400bdf12540c8c8f58b"
 },
 "nbformat": 3,
 "nbformat_minor": 0,
 "worksheets": [
  {
   "cells": [
    {
     "cell_type": "heading",
     "level": 1,
     "metadata": {},
     "source": [
      "Generalidades de m\u00e9todos computacionales para la f\u00edsica estad\u00edstica"
     ]
    },
    {
     "cell_type": "markdown",
     "metadata": {},
     "source": [
      "**Evaluaci\u00f3n**\n",
      "\n",
      "- Tareas: 50% \n",
      "- Ex\u00e1menes: 20%\n",
      "- Proyecto Final: 30%"
     ]
    },
    {
     "cell_type": "markdown",
     "metadata": {},
     "source": [
      "**\u00bfQu\u00e9 veremos?**\n",
      "\n",
      "\n",
      "La meta principal del curso es llegar a simular el modelo de Ising con m\u00e9todos tipo MCMC (Markov Chain Monte Carlo).\n",
      "\n",
      "Para esto, veremos:\n",
      "\n",
      "- Caminatas aleatorias\n",
      "- Cadenas de Markov\n",
      "- MCMC\n",
      "\n",
      "\n",
      "\n"
     ]
    },
    {
     "cell_type": "markdown",
     "metadata": {},
     "source": [
      "**\u00bfQu\u00e9 necesitas en tu compu?**\n",
      "\n",
      "- Anaconda: https://store.continuum.io/cshop/anaconda/\n",
      "- Julia: http://julialang.org/\n",
      "- IJulia: Abres julia en la terminal y tecleas `Pkg.add(\"IJulia\")`"
     ]
    },
    {
     "cell_type": "markdown",
     "metadata": {},
     "source": [
      "**Programar Julia desde la nube sin instalar nada**:\\\n",
      "\n",
      "https://www.juliabox.org/"
     ]
    },
    {
     "cell_type": "markdown",
     "metadata": {},
     "source": [
      "**Tutoriales**\n",
      "\n",
      "Tal vez el mejor lugar para empezar sea los notebooks de mi curso anterior, disponible en el repositorio\n",
      "\n",
      "https://github.com/computo-fc/fisica_computacional\n",
      "\n",
      "en el directorio `notas`.\n",
      "\n",
      "Hay varios recursos enlistados en\n",
      "\n",
      "http://julialang.org/learning/\n",
      "\n",
      "Otros recursos \u00fatiles:\n",
      "\n",
      "- http://www.scolvin.com/juliabyexample/\n",
      "- https://github.com/chrisvoncsefalvay/learn-julia-the-hard-way\n",
      "- Tutorial de Markdown: https://github.com/adam-p/markdown-here/wiki/Markdown-Cheatsheet"
     ]
    },
    {
     "cell_type": "heading",
     "level": 1,
     "metadata": {},
     "source": [
      "Instalaci\u00f3n de IPython en Ubuntu"
     ]
    },
    {
     "cell_type": "markdown",
     "metadata": {},
     "source": [
      "    sudo apt-get install python-dev\n",
      "    sudo apt-get install python-pip\n",
      "\n",
      "    sudo pip install ipython[all] --upgrade\n"
     ]
    },
    {
     "cell_type": "code",
     "collapsed": false,
     "input": [],
     "language": "python",
     "metadata": {},
     "outputs": []
    }
   ],
   "metadata": {}
  }
 ]
}