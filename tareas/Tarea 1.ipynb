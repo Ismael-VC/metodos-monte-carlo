{
 "metadata": {
  "language": "Julia",
  "name": "",
  "signature": "sha256:5c12e8155d3eb81180ab296c589faebc365b4617f14cba56dc8b3d408536ae6f"
 },
 "nbformat": 3,
 "nbformat_minor": 0,
 "worksheets": [
  {
   "cells": [
    {
     "cell_type": "heading",
     "level": 1,
     "metadata": {},
     "source": [
      "Ejercicio 1: Aprender (lo b\u00e1sico) de Julia para c\u00f3mputo cient\u00edfico"
     ]
    },
    {
     "cell_type": "markdown",
     "metadata": {},
     "source": [
      "\u00bfCu\u00e1les son las cosas b\u00e1sicas que necesitamos de un lenguaje computacional para hacer c\u00f3mputo cient\u00edfico?:"
     ]
    },
    {
     "cell_type": "markdown",
     "metadata": {},
     "source": [
      "- N\u00fameros y los tipos posibles de n\u00fameros\n",
      "- Operaciones matem\u00e1ticas\n",
      "- Variables y los tipos de variable\n",
      "- C\u00f3mo imprimir\n",
      "- Funciones (matem\u00e1ticas etc.) que vienen en Julia\n",
      "- Condicionales (`if`--`else`)\n",
      "- Arreglos (matrices o vectores para almacenar datos)\n",
      "- C\u00f3mo definir nuestras propias funciones\n",
      "- Bucles: `for` y `while`\n",
      "- [Librer\u00edas / bibliotecas / paquetes]\n",
      "- Graficar con PyPlot [y Gadfly]"
     ]
    },
    {
     "cell_type": "markdown",
     "metadata": {},
     "source": [
      "Para aprender todo eso hay varios recursos:\n",
      "\n",
      "- http://julialang.org/learning/\n",
      "- Julia by example\n",
      "- Julia cheat sheet\n",
      "- Mi tutorial\n",
      "- Un tutorial de Steven Johnson\n",
      "- Learn the Hard Way\n"
     ]
    },
    {
     "cell_type": "markdown",
     "metadata": {},
     "source": [
      "**Ejercicio 2**:\n",
      "\n",
      "Hacer una lista de:\n",
      "- 3 o m\u00e1s cosas que les gusta de Julia\n",
      "- 3 o m\u00e1s cosas que les parece dif\u00edcil"
     ]
    },
    {
     "cell_type": "markdown",
     "metadata": {},
     "source": [
      "**Ejercicio 3**:\n",
      "\n",
      "Instalar Julia."
     ]
    }
   ],
   "metadata": {}
  }
 ]
}